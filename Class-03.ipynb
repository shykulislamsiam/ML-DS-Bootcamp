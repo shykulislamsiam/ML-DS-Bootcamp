{
 "cells": [
  {
   "cell_type": "code",
   "execution_count": 7,
   "id": "90e73849",
   "metadata": {},
   "outputs": [
    {
     "name": "stdout",
     "output_type": "stream",
     "text": [
      "b\n"
     ]
    }
   ],
   "source": [
    "a = 10\n",
    "b = 50\n",
    "if a>b:\n",
    "    print(\"a\")\n",
    "    \n",
    "elif a==b:\n",
    "    print(\"equal\")\n",
    "else:\n",
    "    print(\"b\")"
   ]
  },
  {
   "cell_type": "code",
   "execution_count": 9,
   "id": "e4779e49",
   "metadata": {},
   "outputs": [
    {
     "name": "stdout",
     "output_type": "stream",
     "text": [
      "b\n"
     ]
    }
   ],
   "source": [
    "c = 15\n",
    "if a>b:\n",
    "    if a>c:\n",
    "        print(\"a\")\n",
    "    else:\n",
    "        print(\"c\")\n",
    "else:\n",
    "    if b>c:\n",
    "        print(\"b\")\n",
    "    else:\n",
    "        print(\"c\")\n"
   ]
  },
  {
   "cell_type": "code",
   "execution_count": 13,
   "id": "c8471bb4",
   "metadata": {},
   "outputs": [
    {
     "name": "stdout",
     "output_type": "stream",
     "text": [
      "1\n",
      "2\n",
      "3\n",
      "4\n",
      "5\n",
      "6\n",
      "7\n",
      "8\n",
      "9\n",
      "10\n",
      "Done\n"
     ]
    }
   ],
   "source": [
    "n = 1\n",
    "while n<=10:\n",
    "    print(n)\n",
    "    n = n+1\n",
    "print(\"Done\")"
   ]
  },
  {
   "cell_type": "code",
   "execution_count": 15,
   "id": "d5d04dbd",
   "metadata": {},
   "outputs": [
    {
     "name": "stdout",
     "output_type": "stream",
     "text": [
      "1\n",
      "2\n",
      "3\n",
      "4\n",
      "5\n",
      "Done\n"
     ]
    }
   ],
   "source": [
    "n = 1\n",
    "while n<=10:\n",
    "    if n==6:\n",
    "        break\n",
    "    print(n)\n",
    "    n = n+1\n",
    "print(\"Done\")"
   ]
  },
  {
   "cell_type": "code",
   "execution_count": 16,
   "id": "9d3251a0",
   "metadata": {},
   "outputs": [
    {
     "name": "stdout",
     "output_type": "stream",
     "text": [
      "1\n",
      "2\n",
      "3\n",
      "4\n",
      "5\n",
      "7\n",
      "8\n",
      "9\n",
      "10\n",
      "Done\n"
     ]
    }
   ],
   "source": [
    "n = 1\n",
    "while n<=10:\n",
    "    if n==6:\n",
    "        n=n+1\n",
    "        continue\n",
    "    print(n)\n",
    "    n = n+1\n",
    "print(\"Done\")"
   ]
  },
  {
   "cell_type": "code",
   "execution_count": 17,
   "id": "3c01f286",
   "metadata": {},
   "outputs": [
    {
     "name": "stdout",
     "output_type": "stream",
     "text": [
      "1\n",
      "2\n",
      "3\n",
      "4\n",
      "5\n",
      "Done\n"
     ]
    }
   ],
   "source": [
    "n = 1\n",
    "while n<=10:\n",
    "    if n==6:\n",
    "        n=n+1\n",
    "        break\n",
    "    print(n)\n",
    "    n = n+1\n",
    "print(\"Done\")"
   ]
  },
  {
   "cell_type": "code",
   "execution_count": 21,
   "id": "7d110731",
   "metadata": {},
   "outputs": [
    {
     "name": "stdout",
     "output_type": "stream",
     "text": [
      "4\n",
      "6\n",
      "8\n"
     ]
    }
   ],
   "source": [
    "for i in range(4,10,2):\n",
    "    print(i)"
   ]
  },
  {
   "cell_type": "code",
   "execution_count": 22,
   "id": "6ed742cd",
   "metadata": {},
   "outputs": [],
   "source": [
    "veg = ['tomato','potato','cauliflower']"
   ]
  },
  {
   "cell_type": "code",
   "execution_count": 23,
   "id": "67fa93f3",
   "metadata": {},
   "outputs": [
    {
     "name": "stdout",
     "output_type": "stream",
     "text": [
      "tomato\n",
      "potato\n",
      "cauliflower\n"
     ]
    }
   ],
   "source": [
    "for i in veg:\n",
    "    print(i)"
   ]
  },
  {
   "cell_type": "code",
   "execution_count": 24,
   "id": "8af4078d",
   "metadata": {},
   "outputs": [
    {
     "name": "stdout",
     "output_type": "stream",
     "text": [
      "a\n",
      "b\n",
      "c\n",
      "d\n"
     ]
    }
   ],
   "source": [
    "dict = {'a':'A','b':'B','c':'C','d':'D'}\n",
    "for letter in dict:\n",
    "    print(letter)"
   ]
  },
  {
   "cell_type": "code",
   "execution_count": 29,
   "id": "0f8cb0d9",
   "metadata": {},
   "outputs": [
    {
     "name": "stdout",
     "output_type": "stream",
     "text": [
      "A\n",
      "B\n",
      "C\n",
      "D\n"
     ]
    }
   ],
   "source": [
    "dict = {'a':'A','b':'B','c':'C','d':'D'}\n",
    "for letter in dict.values():\n",
    "    print(letter)"
   ]
  },
  {
   "cell_type": "code",
   "execution_count": 40,
   "id": "c7fa8c3a",
   "metadata": {},
   "outputs": [
    {
     "name": "stdout",
     "output_type": "stream",
     "text": [
      "10 x 1 = 10\n",
      "10 x 2 = 20\n",
      "10 x 3 = 30\n",
      "10 x 4 = 40\n",
      "10 x 5 = 50\n",
      "10 x 6 = 60\n",
      "10 x 7 = 70\n",
      "10 x 8 = 80\n",
      "10 x 9 = 90\n",
      "10 x 10 = 100\n"
     ]
    }
   ],
   "source": [
    "m = 1\n",
    "n = 10\n",
    "while m<=10:\n",
    "    print(n,'x',m,'=',n*m)\n",
    "    m = m+1\n",
    "    "
   ]
  },
  {
   "cell_type": "code",
   "execution_count": 41,
   "id": "ce99407c",
   "metadata": {},
   "outputs": [
    {
     "name": "stdout",
     "output_type": "stream",
     "text": [
      "1\n",
      "3\n",
      "5\n",
      "7\n"
     ]
    }
   ],
   "source": [
    "numbers = [1,3,5,7,9,11]\n",
    "for n in numbers:\n",
    "    if n<9:\n",
    "        print(n)"
   ]
  },
  {
   "cell_type": "code",
   "execution_count": 42,
   "id": "f96a3e84",
   "metadata": {},
   "outputs": [
    {
     "data": {
      "text/plain": [
       "'tiger'"
      ]
     },
     "execution_count": 42,
     "metadata": {},
     "output_type": "execute_result"
    }
   ],
   "source": [
    "def my_pet(name):\n",
    "    return name\n",
    "my_pet(\"tiger\")"
   ]
  },
  {
   "cell_type": "code",
   "execution_count": 43,
   "id": "f243dd73",
   "metadata": {},
   "outputs": [
    {
     "data": {
      "text/plain": [
       "'tom'"
      ]
     },
     "execution_count": 43,
     "metadata": {},
     "output_type": "execute_result"
    }
   ],
   "source": [
    "my_pet(\"tom\")"
   ]
  },
  {
   "cell_type": "code",
   "execution_count": 44,
   "id": "a5a4a4cd",
   "metadata": {},
   "outputs": [
    {
     "name": "stdout",
     "output_type": "stream",
     "text": [
      "BD\n",
      "Bangla\n",
      "CSA\n"
     ]
    }
   ],
   "source": [
    "def country():\n",
    "    print(\"BD\")\n",
    "    print(\"Bangla\")\n",
    "    print(\"CSA\")\n",
    "country()"
   ]
  },
  {
   "cell_type": "code",
   "execution_count": 45,
   "id": "4511e883",
   "metadata": {},
   "outputs": [
    {
     "name": "stdout",
     "output_type": "stream",
     "text": [
      "BD\n",
      "Bangla\n",
      "CSA\n"
     ]
    }
   ],
   "source": [
    "c = country()"
   ]
  },
  {
   "cell_type": "code",
   "execution_count": 47,
   "id": "1df3556c",
   "metadata": {},
   "outputs": [],
   "source": [
    "def my_pet(name,age,color):\n",
    "    return name,age,color\n",
    "name,age,color = my_pet(\"a\",\"18\",\"blue\")"
   ]
  },
  {
   "cell_type": "code",
   "execution_count": 48,
   "id": "57f2dcad",
   "metadata": {},
   "outputs": [
    {
     "data": {
      "text/plain": [
       "'18'"
      ]
     },
     "execution_count": 48,
     "metadata": {},
     "output_type": "execute_result"
    }
   ],
   "source": [
    "age"
   ]
  },
  {
   "cell_type": "code",
   "execution_count": 50,
   "id": "a830b501",
   "metadata": {},
   "outputs": [
    {
     "data": {
      "text/plain": [
       "('a', '18', 'blue')"
      ]
     },
     "execution_count": 50,
     "metadata": {},
     "output_type": "execute_result"
    }
   ],
   "source": [
    "tup = my_pet(\"a\",\"18\",\"blue\")\n",
    "tup"
   ]
  },
  {
   "cell_type": "code",
   "execution_count": 52,
   "id": "8bf12c78",
   "metadata": {},
   "outputs": [
    {
     "name": "stdout",
     "output_type": "stream",
     "text": [
      "12\n"
     ]
    }
   ],
   "source": [
    "def numbers(n):\n",
    "    n = 12\n",
    "    return n\n",
    "n  = 14\n",
    "print(numbers(16))"
   ]
  },
  {
   "cell_type": "code",
   "execution_count": 56,
   "id": "9e511d59",
   "metadata": {},
   "outputs": [
    {
     "name": "stdout",
     "output_type": "stream",
     "text": [
      "0\n",
      "1\n",
      "2\n",
      "3\n",
      "4\n"
     ]
    }
   ],
   "source": [
    "def numbers(i):\n",
    "    i = 12\n",
    "    return i\n",
    "\n",
    "for i in range(5):\n",
    "    print(i)"
   ]
  },
  {
   "cell_type": "code",
   "execution_count": 58,
   "id": "623726c0",
   "metadata": {},
   "outputs": [
    {
     "name": "stdout",
     "output_type": "stream",
     "text": [
      "10\n",
      "21\n"
     ]
    }
   ],
   "source": [
    "def numbers(i):\n",
    "    i+=1\n",
    "    return i\n",
    "\n",
    "i = 10\n",
    "print(i)\n",
    "print(numbers(20))"
   ]
  },
  {
   "cell_type": "code",
   "execution_count": 59,
   "id": "48a2869e",
   "metadata": {},
   "outputs": [
    {
     "data": {
      "text/plain": [
       "25"
      ]
     },
     "execution_count": 59,
     "metadata": {},
     "output_type": "execute_result"
    }
   ],
   "source": [
    "def add(a,b):\n",
    "    return a+b\n",
    "sum=add(10,15)\n",
    "sum"
   ]
  },
  {
   "cell_type": "code",
   "execution_count": 60,
   "id": "ed9e61bb",
   "metadata": {},
   "outputs": [
    {
     "data": {
      "text/plain": [
       "25"
      ]
     },
     "execution_count": 60,
     "metadata": {},
     "output_type": "execute_result"
    }
   ],
   "source": [
    "sum = lambda a,b:a+b\n",
    "sum(10,15)"
   ]
  },
  {
   "cell_type": "code",
   "execution_count": 61,
   "id": "0c4f86b4",
   "metadata": {},
   "outputs": [
    {
     "data": {
      "text/plain": [
       "<function __main__.<lambda>(a, b)>"
      ]
     },
     "execution_count": 61,
     "metadata": {},
     "output_type": "execute_result"
    }
   ],
   "source": [
    "lambda_add = lambda a,b:a+b\n",
    "lambda_add"
   ]
  },
  {
   "cell_type": "code",
   "execution_count": 62,
   "id": "50fafb2f",
   "metadata": {},
   "outputs": [
    {
     "data": {
      "text/plain": [
       "25"
      ]
     },
     "execution_count": 62,
     "metadata": {},
     "output_type": "execute_result"
    }
   ],
   "source": [
    "lambda_add(10,15)"
   ]
  },
  {
   "cell_type": "code",
   "execution_count": 64,
   "id": "d39044ea",
   "metadata": {},
   "outputs": [
    {
     "name": "stdout",
     "output_type": "stream",
     "text": [
      "{1, 4, 9, 16, 25}\n"
     ]
    }
   ],
   "source": [
    "l = [1,2,3,4,5]\n",
    "square = lambda n:n*n\n",
    "new = map(square,l)\n",
    "m = set(new)\n",
    "print(m)\n"
   ]
  },
  {
   "cell_type": "code",
   "execution_count": null,
   "id": "95d16a42",
   "metadata": {},
   "outputs": [],
   "source": [
    "for i in l:\n",
    "    print(i*i)"
   ]
  }
 ],
 "metadata": {
  "kernelspec": {
   "display_name": "Python 3 (ipykernel)",
   "language": "python",
   "name": "python3"
  },
  "language_info": {
   "codemirror_mode": {
    "name": "ipython",
    "version": 3
   },
   "file_extension": ".py",
   "mimetype": "text/x-python",
   "name": "python",
   "nbconvert_exporter": "python",
   "pygments_lexer": "ipython3",
   "version": "3.9.13"
  }
 },
 "nbformat": 4,
 "nbformat_minor": 5
}
