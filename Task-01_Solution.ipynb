{
 "cells": [
  {
   "cell_type": "markdown",
   "id": "ac269677",
   "metadata": {},
   "source": [
    "## 01 Area of Circle"
   ]
  },
  {
   "cell_type": "code",
   "execution_count": 7,
   "id": "86185d8a",
   "metadata": {},
   "outputs": [
    {
     "name": "stdout",
     "output_type": "stream",
     "text": [
      "Please Enter the Radius:6\n",
      "The Area is: 113.09733552923255\n"
     ]
    }
   ],
   "source": [
    "import numpy as np\n",
    "import pandas as pd\n",
    "import math as m\n",
    "\n",
    "r = float(input(\"Please Enter the Radius:\"))\n",
    "area = m.pi*(r**2)\n",
    "\n",
    "print(\"The Area is:\",area)"
   ]
  },
  {
   "cell_type": "markdown",
   "id": "84cfa0c0",
   "metadata": {},
   "source": [
    "## 02 Function for Comparison"
   ]
  },
  {
   "cell_type": "code",
   "execution_count": 9,
   "id": "b21b8e48",
   "metadata": {},
   "outputs": [
    {
     "name": "stdout",
     "output_type": "stream",
     "text": [
      "Enter the First Number:8\n",
      "Enter the Second Number:7\n",
      "Enter the Third Number:6\n",
      "The Largest Number is: 8\n"
     ]
    }
   ],
   "source": [
    "n1 = int(input(\"Enter the First Number:\"))\n",
    "n2 = int(input(\"Enter the Second Number:\"))\n",
    "n3 = int(input(\"Enter the Third Number:\"))\n",
    "\n",
    "if n1>n2 and n1>n3:\n",
    "    largest = n1\n",
    "elif n2>n1 and n2>n3:\n",
    "    largest = n2\n",
    "else:\n",
    "    largest = n3\n",
    "\n",
    "print(\"The Largest Number is:\",largest)"
   ]
  },
  {
   "cell_type": "markdown",
   "id": "c7998e15",
   "metadata": {},
   "source": [
    "## 03 Convert Vowels in 1 and Consonants in 0"
   ]
  },
  {
   "cell_type": "code",
   "execution_count": 11,
   "id": "79217c81",
   "metadata": {},
   "outputs": [
    {
     "name": "stdout",
     "output_type": "stream",
     "text": [
      "Enter the Word:abcde\n",
      "The Output is: 10001\n"
     ]
    }
   ],
   "source": [
    "def convert_vowels(input_string):\n",
    "    vowels = \"aeiou\"\n",
    "    output_string = \"\"\n",
    "    for char in input_string:\n",
    "        if char.lower() in vowels:\n",
    "            output_string  += \"1\"\n",
    "        else:\n",
    "            output_string += \"0\"\n",
    "    return output_string\n",
    "\n",
    "input_string = input(\"Enter the Word:\")\n",
    "output_string = convert_vowels(input_string)\n",
    "print(\"The Output is:\",output_string)"
   ]
  },
  {
   "cell_type": "markdown",
   "id": "5a8ee717",
   "metadata": {},
   "source": [
    "## 04 Calculator"
   ]
  },
  {
   "cell_type": "code",
   "execution_count": 12,
   "id": "2bfe8d4f",
   "metadata": {},
   "outputs": [
    {
     "name": "stdout",
     "output_type": "stream",
     "text": [
      "Please enter the 1st value: 2\n",
      "Please enter the 2nd value: 4\n",
      "The addition is: 6.0\n",
      "The substraction is: -2.0\n",
      "The multiplication is: 8.0\n",
      "The division is: 0.5\n"
     ]
    }
   ],
   "source": [
    "a = float(input(\"Please enter the 1st value: \"))\n",
    "b = float(input(\"Please enter the 2nd value: \"))\n",
    "\n",
    "ADD = a+b\n",
    "print(\"The addition is:\",ADD)\n",
    "\n",
    "SUB = a-b\n",
    "print(\"The substraction is:\",SUB)\n",
    "\n",
    "MUL = a*b\n",
    "print(\"The multiplication is:\",MUL)\n",
    "\n",
    "DIV = a/b\n",
    "print(\"The division is:\",DIV)"
   ]
  },
  {
   "cell_type": "markdown",
   "id": "6d11a62e",
   "metadata": {},
   "source": [
    "## 05 String Iterate"
   ]
  },
  {
   "cell_type": "code",
   "execution_count": 14,
   "id": "3507067e",
   "metadata": {},
   "outputs": [
    {
     "name": "stdout",
     "output_type": "stream",
     "text": [
      "Please Enter the Input:ok\n",
      "The Output is: okok\n"
     ]
    }
   ],
   "source": [
    "string = (input(\"Please Enter the Input:\"))\n",
    "result = string*2\n",
    "print(\"The Output is:\",result)"
   ]
  },
  {
   "cell_type": "markdown",
   "id": "f0669ff4",
   "metadata": {},
   "source": [
    "## 06 Filter, Map and Reduce Function"
   ]
  },
  {
   "cell_type": "code",
   "execution_count": 20,
   "id": "570dba00",
   "metadata": {},
   "outputs": [
    {
     "name": "stdout",
     "output_type": "stream",
     "text": [
      "First Output is: ['ux1P5', 'z1aP']\n",
      "Second Output is: ['ux1P5', 'rt0P', 'ft3P', 'z1aP']\n"
     ]
    }
   ],
   "source": [
    "input_list = [ \"ux1P5\", \"rt0\", \"ft3\", \"z1aP\" ]\n",
    "\n",
    "output_list1 = list(filter(lambda x: \"P\" in x,input_list))\n",
    "print(\"First Output is:\",output_list1)\n",
    "\n",
    "output_list2 = list(map(lambda x: x+\"P\" if \"P\" not in x else x,input_list))\n",
    "print(\"Second Output is:\",output_list2)"
   ]
  },
  {
   "cell_type": "code",
   "execution_count": 22,
   "id": "0a833876",
   "metadata": {},
   "outputs": [
    {
     "name": "stdout",
     "output_type": "stream",
     "text": [
      "First Result is: 21\n"
     ]
    }
   ],
   "source": [
    "from functools import reduce\n",
    "input_list = [1,2,3,4,5,6]\n",
    "output1 = reduce(lambda x, y:x+y, input_list)\n",
    "print(\"First Result is:\",output1)"
   ]
  },
  {
   "cell_type": "code",
   "execution_count": 24,
   "id": "76a02794",
   "metadata": {},
   "outputs": [
    {
     "name": "stdout",
     "output_type": "stream",
     "text": [
      "The result is: 21\n"
     ]
    }
   ],
   "source": [
    "input_list = [1,2,3,4,5,6]\n",
    "output = sum(input_list)\n",
    "print(\"The result is:\",output)"
   ]
  },
  {
   "cell_type": "markdown",
   "id": "59ad7427",
   "metadata": {},
   "source": [
    "## 07 Dataset"
   ]
  },
  {
   "cell_type": "code",
   "execution_count": 27,
   "id": "c1caf8e3",
   "metadata": {},
   "outputs": [
    {
     "data": {
      "text/html": [
       "<div>\n",
       "<style scoped>\n",
       "    .dataframe tbody tr th:only-of-type {\n",
       "        vertical-align: middle;\n",
       "    }\n",
       "\n",
       "    .dataframe tbody tr th {\n",
       "        vertical-align: top;\n",
       "    }\n",
       "\n",
       "    .dataframe thead th {\n",
       "        text-align: right;\n",
       "    }\n",
       "</style>\n",
       "<table border=\"1\" class=\"dataframe\">\n",
       "  <thead>\n",
       "    <tr style=\"text-align: right;\">\n",
       "      <th></th>\n",
       "      <th>Unnamed: 0</th>\n",
       "      <th>item_code</th>\n",
       "      <th>item_name</th>\n",
       "      <th>display_level</th>\n",
       "      <th>selectable</th>\n",
       "      <th>sort_sequence</th>\n",
       "    </tr>\n",
       "  </thead>\n",
       "  <tbody>\n",
       "    <tr>\n",
       "      <th>0</th>\n",
       "      <td>0</td>\n",
       "      <td>AA0</td>\n",
       "      <td>All items - old base</td>\n",
       "      <td>0</td>\n",
       "      <td>T</td>\n",
       "      <td>2</td>\n",
       "    </tr>\n",
       "    <tr>\n",
       "      <th>1</th>\n",
       "      <td>1</td>\n",
       "      <td>AA0R</td>\n",
       "      <td>Purchasing power of the consumer dollar - old ...</td>\n",
       "      <td>0</td>\n",
       "      <td>T</td>\n",
       "      <td>400</td>\n",
       "    </tr>\n",
       "    <tr>\n",
       "      <th>2</th>\n",
       "      <td>2</td>\n",
       "      <td>SA0</td>\n",
       "      <td>All items</td>\n",
       "      <td>0</td>\n",
       "      <td>T</td>\n",
       "      <td>1</td>\n",
       "    </tr>\n",
       "    <tr>\n",
       "      <th>3</th>\n",
       "      <td>3</td>\n",
       "      <td>SA0E</td>\n",
       "      <td>Energy</td>\n",
       "      <td>1</td>\n",
       "      <td>T</td>\n",
       "      <td>375</td>\n",
       "    </tr>\n",
       "    <tr>\n",
       "      <th>4</th>\n",
       "      <td>4</td>\n",
       "      <td>SA0L1</td>\n",
       "      <td>All items less food</td>\n",
       "      <td>1</td>\n",
       "      <td>T</td>\n",
       "      <td>359</td>\n",
       "    </tr>\n",
       "    <tr>\n",
       "      <th>5</th>\n",
       "      <td>5</td>\n",
       "      <td>SA0L12</td>\n",
       "      <td>All items less food and shelter</td>\n",
       "      <td>1</td>\n",
       "      <td>T</td>\n",
       "      <td>362</td>\n",
       "    </tr>\n",
       "    <tr>\n",
       "      <th>6</th>\n",
       "      <td>6</td>\n",
       "      <td>SA0L12E</td>\n",
       "      <td>All items less food, shelter, and energy</td>\n",
       "      <td>1</td>\n",
       "      <td>T</td>\n",
       "      <td>363</td>\n",
       "    </tr>\n",
       "    <tr>\n",
       "      <th>7</th>\n",
       "      <td>7</td>\n",
       "      <td>SA0L12E4</td>\n",
       "      <td>All items less food, shelter, energy, and used...</td>\n",
       "      <td>1</td>\n",
       "      <td>T</td>\n",
       "      <td>364</td>\n",
       "    </tr>\n",
       "    <tr>\n",
       "      <th>8</th>\n",
       "      <td>8</td>\n",
       "      <td>SA0L1E</td>\n",
       "      <td>All items less food and energy</td>\n",
       "      <td>1</td>\n",
       "      <td>T</td>\n",
       "      <td>360</td>\n",
       "    </tr>\n",
       "    <tr>\n",
       "      <th>9</th>\n",
       "      <td>9</td>\n",
       "      <td>SA0L2</td>\n",
       "      <td>All items less shelter</td>\n",
       "      <td>1</td>\n",
       "      <td>T</td>\n",
       "      <td>361</td>\n",
       "    </tr>\n",
       "  </tbody>\n",
       "</table>\n",
       "</div>"
      ],
      "text/plain": [
       "   Unnamed: 0 item_code                                          item_name  \\\n",
       "0           0       AA0                               All items - old base   \n",
       "1           1      AA0R  Purchasing power of the consumer dollar - old ...   \n",
       "2           2       SA0                                          All items   \n",
       "3           3      SA0E                                             Energy   \n",
       "4           4     SA0L1                                All items less food   \n",
       "5           5    SA0L12                    All items less food and shelter   \n",
       "6           6   SA0L12E           All items less food, shelter, and energy   \n",
       "7           7  SA0L12E4  All items less food, shelter, energy, and used...   \n",
       "8           8    SA0L1E                     All items less food and energy   \n",
       "9           9     SA0L2                             All items less shelter   \n",
       "\n",
       "   display_level selectable  sort_sequence  \n",
       "0              0          T              2  \n",
       "1              0          T            400  \n",
       "2              0          T              1  \n",
       "3              1          T            375  \n",
       "4              1          T            359  \n",
       "5              1          T            362  \n",
       "6              1          T            363  \n",
       "7              1          T            364  \n",
       "8              1          T            360  \n",
       "9              1          T            361  "
      ]
     },
     "execution_count": 27,
     "metadata": {},
     "output_type": "execute_result"
    }
   ],
   "source": [
    "wine = pd.read_csv(\"datasets/wine.csv\")\n",
    "wine.head(10)"
   ]
  },
  {
   "cell_type": "code",
   "execution_count": 28,
   "id": "dae91dc7",
   "metadata": {},
   "outputs": [
    {
     "data": {
      "text/plain": [
       "363"
      ]
     },
     "execution_count": 28,
     "metadata": {},
     "output_type": "execute_result"
    }
   ],
   "source": [
    "wine.iloc[6,-1]"
   ]
  },
  {
   "cell_type": "code",
   "execution_count": 29,
   "id": "0601d5d5",
   "metadata": {},
   "outputs": [
    {
     "data": {
      "text/html": [
       "<div>\n",
       "<style scoped>\n",
       "    .dataframe tbody tr th:only-of-type {\n",
       "        vertical-align: middle;\n",
       "    }\n",
       "\n",
       "    .dataframe tbody tr th {\n",
       "        vertical-align: top;\n",
       "    }\n",
       "\n",
       "    .dataframe thead th {\n",
       "        text-align: right;\n",
       "    }\n",
       "</style>\n",
       "<table border=\"1\" class=\"dataframe\">\n",
       "  <thead>\n",
       "    <tr style=\"text-align: right;\">\n",
       "      <th></th>\n",
       "      <th>Unnamed: 0</th>\n",
       "      <th>item_code</th>\n",
       "      <th>item_name</th>\n",
       "      <th>display_level</th>\n",
       "      <th>selectable</th>\n",
       "      <th>sort_sequence</th>\n",
       "    </tr>\n",
       "  </thead>\n",
       "  <tbody>\n",
       "    <tr>\n",
       "      <th>0</th>\n",
       "      <td>0</td>\n",
       "      <td>AA0</td>\n",
       "      <td>All items - old base</td>\n",
       "      <td>0</td>\n",
       "      <td>T</td>\n",
       "      <td>2</td>\n",
       "    </tr>\n",
       "    <tr>\n",
       "      <th>1</th>\n",
       "      <td>1</td>\n",
       "      <td>AA0R</td>\n",
       "      <td>Purchasing power of the consumer dollar - old ...</td>\n",
       "      <td>0</td>\n",
       "      <td>T</td>\n",
       "      <td>400</td>\n",
       "    </tr>\n",
       "    <tr>\n",
       "      <th>2</th>\n",
       "      <td>2</td>\n",
       "      <td>SA0</td>\n",
       "      <td>All items</td>\n",
       "      <td>0</td>\n",
       "      <td>T</td>\n",
       "      <td>1</td>\n",
       "    </tr>\n",
       "    <tr>\n",
       "      <th>3</th>\n",
       "      <td>3</td>\n",
       "      <td>SA0E</td>\n",
       "      <td>Energy</td>\n",
       "      <td>1</td>\n",
       "      <td>T</td>\n",
       "      <td>375</td>\n",
       "    </tr>\n",
       "    <tr>\n",
       "      <th>4</th>\n",
       "      <td>4</td>\n",
       "      <td>SA0L1</td>\n",
       "      <td>All items less food</td>\n",
       "      <td>1</td>\n",
       "      <td>T</td>\n",
       "      <td>359</td>\n",
       "    </tr>\n",
       "    <tr>\n",
       "      <th>5</th>\n",
       "      <td>5</td>\n",
       "      <td>SA0L12</td>\n",
       "      <td>All items less food and shelter</td>\n",
       "      <td>1</td>\n",
       "      <td>T</td>\n",
       "      <td>362</td>\n",
       "    </tr>\n",
       "    <tr>\n",
       "      <th>6</th>\n",
       "      <td>6</td>\n",
       "      <td>SA0L12E</td>\n",
       "      <td>All items less food, shelter, and energy</td>\n",
       "      <td>1</td>\n",
       "      <td>T</td>\n",
       "      <td>363</td>\n",
       "    </tr>\n",
       "    <tr>\n",
       "      <th>7</th>\n",
       "      <td>7</td>\n",
       "      <td>SA0L12E4</td>\n",
       "      <td>All items less food, shelter, energy, and used...</td>\n",
       "      <td>1</td>\n",
       "      <td>T</td>\n",
       "      <td>364</td>\n",
       "    </tr>\n",
       "    <tr>\n",
       "      <th>8</th>\n",
       "      <td>8</td>\n",
       "      <td>SA0L1E</td>\n",
       "      <td>All items less food and energy</td>\n",
       "      <td>1</td>\n",
       "      <td>T</td>\n",
       "      <td>360</td>\n",
       "    </tr>\n",
       "    <tr>\n",
       "      <th>9</th>\n",
       "      <td>9</td>\n",
       "      <td>SA0L2</td>\n",
       "      <td>All items less shelter</td>\n",
       "      <td>1</td>\n",
       "      <td>T</td>\n",
       "      <td>361</td>\n",
       "    </tr>\n",
       "  </tbody>\n",
       "</table>\n",
       "</div>"
      ],
      "text/plain": [
       "   Unnamed: 0 item_code                                          item_name  \\\n",
       "0           0       AA0                               All items - old base   \n",
       "1           1      AA0R  Purchasing power of the consumer dollar - old ...   \n",
       "2           2       SA0                                          All items   \n",
       "3           3      SA0E                                             Energy   \n",
       "4           4     SA0L1                                All items less food   \n",
       "5           5    SA0L12                    All items less food and shelter   \n",
       "6           6   SA0L12E           All items less food, shelter, and energy   \n",
       "7           7  SA0L12E4  All items less food, shelter, energy, and used...   \n",
       "8           8    SA0L1E                     All items less food and energy   \n",
       "9           9     SA0L2                             All items less shelter   \n",
       "\n",
       "   display_level selectable  sort_sequence  \n",
       "0              0          T              2  \n",
       "1              0          T            400  \n",
       "2              0          T              1  \n",
       "3              1          T            375  \n",
       "4              1          T            359  \n",
       "5              1          T            362  \n",
       "6              1          T            363  \n",
       "7              1          T            364  \n",
       "8              1          T            360  \n",
       "9              1          T            361  "
      ]
     },
     "execution_count": 29,
     "metadata": {},
     "output_type": "execute_result"
    }
   ],
   "source": [
    "wine1 = wine.iloc[0:10]\n",
    "wine1"
   ]
  },
  {
   "cell_type": "code",
   "execution_count": null,
   "id": "f6c0ec4d",
   "metadata": {},
   "outputs": [],
   "source": [
    "wine1.to_pickle('datasets/wine_pickle.pkl')\n",
    "wine2 =  pd.read_pickle('datasets/wine_pickle.pkl')\n",
    "wine2"
   ]
  }
 ],
 "metadata": {
  "kernelspec": {
   "display_name": "Python 3 (ipykernel)",
   "language": "python",
   "name": "python3"
  },
  "language_info": {
   "codemirror_mode": {
    "name": "ipython",
    "version": 3
   },
   "file_extension": ".py",
   "mimetype": "text/x-python",
   "name": "python",
   "nbconvert_exporter": "python",
   "pygments_lexer": "ipython3",
   "version": "3.9.13"
  }
 },
 "nbformat": 4,
 "nbformat_minor": 5
}
