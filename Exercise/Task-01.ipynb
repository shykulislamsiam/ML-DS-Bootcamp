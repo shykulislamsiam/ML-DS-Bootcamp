{
 "cells": [
  {
   "cell_type": "code",
   "execution_count": 34,
   "id": "5c97fac0",
   "metadata": {},
   "outputs": [
    {
     "name": "stdout",
     "output_type": "stream",
     "text": [
      "Please enter the value of radius:6\n",
      "Area:  113.0976\n"
     ]
    }
   ],
   "source": [
    "#problem-01:Find the area of a circle. Input should be taken with float(input()).\n",
    "#Using define function\n",
    "def area_of_circle(r):\n",
    "    pi = 3.1416\n",
    "    return pi*r*r\n",
    "\n",
    "radius = float(input(\"Please enter the value of radius:\"))\n",
    "area = area_of_circle(radius)\n",
    "\n",
    "print(\"Area: \", area)"
   ]
  },
  {
   "cell_type": "code",
   "execution_count": 28,
   "id": "6cd7a8c4",
   "metadata": {},
   "outputs": [
    {
     "name": "stdout",
     "output_type": "stream",
     "text": [
      "Please enter the radius: 6\n",
      "Area:  113.09733552923255\n"
     ]
    }
   ],
   "source": [
    "#Using built in function\n",
    "import math\n",
    "r = float(input(\"Please enter the radius: \"))\n",
    "area  = math.pi*r*r\n",
    "print(\"Area: \",area)"
   ]
  },
  {
   "cell_type": "code",
   "execution_count": 29,
   "id": "bd7936ad",
   "metadata": {},
   "outputs": [
    {
     "name": "stdout",
     "output_type": "stream",
     "text": [
      "Please enter the radius: 8\n",
      "Area 201.0624\n"
     ]
    }
   ],
   "source": [
    "#Using normal procedure\n",
    "r = float(input(\"Please enter the radius: \"))\n",
    "pi = 3.1416\n",
    "area  = pi*r*r\n",
    "print(\"Area\",area)"
   ]
  },
  {
   "cell_type": "code",
   "execution_count": 30,
   "id": "deb9ed1f",
   "metadata": {},
   "outputs": [
    {
     "name": "stdout",
     "output_type": "stream",
     "text": [
      "Please provide Width: 50\n",
      "Please provide Height: 60\n",
      "Area:  3000.0\n"
     ]
    }
   ],
   "source": [
    "## Area of rectangle\n",
    "def area_of_rectangle(w, h):\n",
    "    return w*h\n",
    "\n",
    "width = float(input(\"Please provide Width: \"))\n",
    "height = float(input(\"Please provide Height: \"))\n",
    "area = area_of_rectangle(width, height)\n",
    "\n",
    "print(\"Area: \", area)\n"
   ]
  },
  {
   "cell_type": "code",
   "execution_count": 31,
   "id": "675add25",
   "metadata": {},
   "outputs": [
    {
     "name": "stdout",
     "output_type": "stream",
     "text": [
      "The largest number is:  7\n"
     ]
    }
   ],
   "source": [
    "#problem-02:Write a function to get the largest number between 3. Apply that function to show an example.\n",
    "#Without input\n",
    "def largest(a,b,c):\n",
    "    if a>b:\n",
    "        if a>c:\n",
    "            return a\n",
    "        else:\n",
    "            return c\n",
    "    else:\n",
    "        if b>c:\n",
    "            return b\n",
    "        else:\n",
    "            return c\n",
    "largest_num = (largest(5,6,7))\n",
    "print(\"The largest number is: \",largest_num)"
   ]
  },
  {
   "cell_type": "code",
   "execution_count": 32,
   "id": "75853732",
   "metadata": {},
   "outputs": [
    {
     "name": "stdout",
     "output_type": "stream",
     "text": [
      "Please enter the value of a: 6\n",
      "Please enter the value of b: 9\n",
      "Please enter the value of c: 5\n",
      "The largest number is: 9\n"
     ]
    }
   ],
   "source": [
    "#with input\n",
    "a = int(input(\"Please enter the value of a: \"))\n",
    "b = int(input(\"Please enter the value of b: \"))\n",
    "c = int(input(\"Please enter the value of c: \"))\n",
    "if a>b and a>c:\n",
    "    largest = a\n",
    "elif b>a and b>c:\n",
    "    largest = b\n",
    "else:\n",
    "    largest = c\n",
    "print(\"The largest number is:\",largest)"
   ]
  },
  {
   "cell_type": "code",
   "execution_count": 35,
   "id": "77708fa9",
   "metadata": {},
   "outputs": [
    {
     "name": "stdout",
     "output_type": "stream",
     "text": [
      "Please enter the value of a: 6 \n",
      "Please enter the value of b: 4\n",
      "Please enter the value of c: 2\n",
      "The largest number is:  6\n"
     ]
    }
   ],
   "source": [
    "#with define function\n",
    "def largest(a,b,c):\n",
    "    if a>b and a>c:\n",
    "        largest = a\n",
    "    elif b>a and b>c:\n",
    "        largest = b\n",
    "    else:\n",
    "        largest =  c\n",
    "\n",
    "    return largest\n",
    "\n",
    "a = int(input(\"Please enter the value of a: \"))\n",
    "b = int(input(\"Please enter the value of b: \"))\n",
    "c = int(input(\"Please enter the value of c: \"))\n",
    "\n",
    "largest_number = largest(a,b,c)\n",
    "\n",
    "print(\"The largest number is: \",largest_number)\n"
   ]
  },
  {
   "cell_type": "code",
   "execution_count": 38,
   "id": "c41b95f8",
   "metadata": {},
   "outputs": [
    {
     "name": "stdout",
     "output_type": "stream",
     "text": [
      "Please enter any character: abcde\n",
      "The result is:  10001\n"
     ]
    }
   ],
   "source": [
    "#problem-03:Write a function to convert the vowels of a string into 1 and consonants into 0. For example: If the input is \"abcde\", the output will be \"10001\".\n",
    "#Using define function\n",
    "def convert(vowels):\n",
    "    a = \" \"\n",
    "    for chr in vowels:\n",
    "        if chr==\"a\" or chr==\"e\" or chr==\"i\" or chr==\"o\" or chr==\"u\":\n",
    "            a+=\"1\"\n",
    "        else:\n",
    "            a+=\"0\"\n",
    "    return a\n",
    "str = input(\"Please enter any character: \")\n",
    "converted = convert(str)\n",
    "print(\"The result is:\",converted)"
   ]
  },
  {
   "cell_type": "code",
   "execution_count": 44,
   "id": "cea1b6e1",
   "metadata": {},
   "outputs": [
    {
     "name": "stdout",
     "output_type": "stream",
     "text": [
      "Please enter any character: abcde\n",
      "The result is:  10001\n"
     ]
    }
   ],
   "source": [
    "#without define function\n",
    "r =input(\"Please enter any character: \")\n",
    "r1 = \" \"\n",
    "for chr in r:\n",
    "        if chr==\"a\" or chr==\"e\" or chr==\"i\" or chr==\"o\" or chr==\"u\":\n",
    "            r1+=\"1\"\n",
    "        else:\n",
    "            r1+=\"0\"\n",
    "print(\"The result is:\",r1)"
   ]
  },
  {
   "cell_type": "code",
   "execution_count": null,
   "id": "f0bf61c2",
   "metadata": {},
   "outputs": [],
   "source": [
    "#problem-04:Create a single Calculator Function with ADD, SUB, MUL, and DIV."
   ]
  },
  {
   "cell_type": "code",
   "execution_count": 49,
   "id": "8a6dbc8a",
   "metadata": {},
   "outputs": [
    {
     "name": "stdout",
     "output_type": "stream",
     "text": [
      "Please enter the 1st value: 6\n",
      "Please enter the 2nd value: 2\n",
      "The addition is: 8.0\n",
      "The substraction is: 4.0\n",
      "The multiplication is: 12.0\n",
      "The division is: 3.0\n"
     ]
    }
   ],
   "source": [
    "#without define function\n",
    "a = float(input(\"Please enter the 1st value: \"))\n",
    "b = float(input(\"Please enter the 2nd value: \"))\n",
    "ADD = a+b\n",
    "print(\"The addition is:\",ADD)\n",
    "SUB = a-b\n",
    "print(\"The substraction is:\",SUB)\n",
    "MUL = a*b\n",
    "print(\"The multiplication is:\",MUL)\n",
    "DIV = a/b\n",
    "print(\"The division is:\",DIV)\n"
   ]
  },
  {
   "cell_type": "code",
   "execution_count": 52,
   "id": "3eaaefca",
   "metadata": {},
   "outputs": [
    {
     "name": "stdout",
     "output_type": "stream",
     "text": [
      "Please enter the 1st value: 6\n",
      "Please enter the 2nd value: 2\n",
      "The result is: 8.0\n",
      "The result is: 4.0\n",
      "The result is: 12.0\n",
      "The result is: 3.0\n"
     ]
    }
   ],
   "source": [
    "#with define function\n",
    "def add(a,b):\n",
    "    return a+b\n",
    "def sub(a,b):\n",
    "    return a-b\n",
    "def mul(a,b):\n",
    "    return a*b\n",
    "def div(a,b):\n",
    "    return a/b\n",
    "a = float(input(\"Please enter the 1st value: \"))\n",
    "b = float(input(\"Please enter the 2nd value: \"))\n",
    "print(\"The result is:\",add(a,b))\n",
    "print(\"The result is:\",sub(a,b))\n",
    "print(\"The result is:\",mul(a,b))\n",
    "print(\"The result is:\",div(a,b))"
   ]
  },
  {
   "cell_type": "code",
   "execution_count": 53,
   "id": "b42ed123",
   "metadata": {},
   "outputs": [
    {
     "name": "stdout",
     "output_type": "stream",
     "text": [
      "Please enter characters: XYZ\n",
      "The output is:  XYZXYZ\n"
     ]
    }
   ],
   "source": [
    "#problem-05:Repeat Input String. e.g Input: \"XYZ\" -> Output: \"XYZXYZ\".\n",
    "str = input(\"Please enter characters: \")\n",
    "print(\"The output is: \",str*2)"
   ]
  },
  {
   "cell_type": "code",
   "execution_count": 58,
   "id": "8b43bb31",
   "metadata": {},
   "outputs": [
    {
     "name": "stdout",
     "output_type": "stream",
     "text": [
      "Output after Filterring--> \n",
      "['ux1P5', 'z1aP']\n",
      "Output after Mapping--> \n",
      "['ux1P5', 'rt0P', 'ft3P', 'z1aP']\n",
      "The Summation of list is--> 21\n"
     ]
    }
   ],
   "source": [
    "#problem-06:Open a notebook and run this:\n",
    "#- Use FILTER() to show an array/list of elements with \"P\" inside. Input: [ \"ux1P5\", \"rt0\", \"ft3\", \"z1aP\" ]-\n",
    "#> Output: [ \"ux1P5\", \"z1aP\" ]\n",
    "#- Use MAP() to add a \"P\" if \"P\" is not there. Input: [ \"ux1P5\", \"rt0\", \"ft3\", \"z1aP\" ] ->  Output: [ \"ux1P5\", \"rt0P\", \"ft3P\", \"z1aP\" ]\n",
    "#- (Bonus) Use REDUCE() to get the sum of this list: [1, 2, 3, 4] -> [10]\n",
    "def is_P(a):\n",
    "    flag=0\n",
    "    for i in a:\n",
    "        if i=='P':\n",
    "            flag=1\n",
    "    if flag==1:\n",
    "        return True\n",
    "def is_not_p(a):\n",
    "    flag = 0\n",
    "    #print(a)\n",
    "    for i in a:\n",
    "        if i == 'P':\n",
    "            flag = 1\n",
    "    if flag == 0:\n",
    "        a+='P'\n",
    "    return a\n",
    "        #return True\n",
    "\n",
    "lst = [\"ux1P5\", \"rt0\", \"ft3\", \"z1aP\"]\n",
    "## Filter\n",
    "print(\"Output after Filterring--> \")\n",
    "f = filter(is_P,lst)\n",
    "print(list(f))\n",
    "##Map\n",
    "print(\"Output after Mapping--> \")\n",
    "m = map(is_not_p,lst)\n",
    "print(list(m))\n",
    "\n",
    "##Reduce function\n",
    "import functools\n",
    "num = [1,2,3,4,5,6]\n",
    "sum = functools.reduce(lambda a,b:a+b,num)\n",
    "print(\"The Summation of list is-->\",sum)\n",
    "\n"
   ]
  },
  {
   "cell_type": "code",
   "execution_count": 1,
   "id": "ed183b9a",
   "metadata": {},
   "outputs": [],
   "source": [
    "#problem-07:Read the wine.csv dataset as Pandas DataFrame and show (in another notebook):\n",
    "#- head()\n",
    "#- Show the entry of the 7th row, the last column.\n",
    "#- Save the 1st 10 rows as a Pickle file.\n",
    "import pandas as pd\n",
    "wine = pd.read_csv('datasets/wine.csv')"
   ]
  },
  {
   "cell_type": "code",
   "execution_count": 2,
   "id": "e5698cc6",
   "metadata": {},
   "outputs": [
    {
     "data": {
      "text/html": [
       "<div>\n",
       "<style scoped>\n",
       "    .dataframe tbody tr th:only-of-type {\n",
       "        vertical-align: middle;\n",
       "    }\n",
       "\n",
       "    .dataframe tbody tr th {\n",
       "        vertical-align: top;\n",
       "    }\n",
       "\n",
       "    .dataframe thead th {\n",
       "        text-align: right;\n",
       "    }\n",
       "</style>\n",
       "<table border=\"1\" class=\"dataframe\">\n",
       "  <thead>\n",
       "    <tr style=\"text-align: right;\">\n",
       "      <th></th>\n",
       "      <th>Unnamed: 0</th>\n",
       "      <th>item_code</th>\n",
       "      <th>item_name</th>\n",
       "      <th>display_level</th>\n",
       "      <th>selectable</th>\n",
       "      <th>sort_sequence</th>\n",
       "    </tr>\n",
       "  </thead>\n",
       "  <tbody>\n",
       "    <tr>\n",
       "      <th>0</th>\n",
       "      <td>0</td>\n",
       "      <td>AA0</td>\n",
       "      <td>All items - old base</td>\n",
       "      <td>0</td>\n",
       "      <td>T</td>\n",
       "      <td>2</td>\n",
       "    </tr>\n",
       "    <tr>\n",
       "      <th>1</th>\n",
       "      <td>1</td>\n",
       "      <td>AA0R</td>\n",
       "      <td>Purchasing power of the consumer dollar - old ...</td>\n",
       "      <td>0</td>\n",
       "      <td>T</td>\n",
       "      <td>400</td>\n",
       "    </tr>\n",
       "    <tr>\n",
       "      <th>2</th>\n",
       "      <td>2</td>\n",
       "      <td>SA0</td>\n",
       "      <td>All items</td>\n",
       "      <td>0</td>\n",
       "      <td>T</td>\n",
       "      <td>1</td>\n",
       "    </tr>\n",
       "    <tr>\n",
       "      <th>3</th>\n",
       "      <td>3</td>\n",
       "      <td>SA0E</td>\n",
       "      <td>Energy</td>\n",
       "      <td>1</td>\n",
       "      <td>T</td>\n",
       "      <td>375</td>\n",
       "    </tr>\n",
       "    <tr>\n",
       "      <th>4</th>\n",
       "      <td>4</td>\n",
       "      <td>SA0L1</td>\n",
       "      <td>All items less food</td>\n",
       "      <td>1</td>\n",
       "      <td>T</td>\n",
       "      <td>359</td>\n",
       "    </tr>\n",
       "    <tr>\n",
       "      <th>5</th>\n",
       "      <td>5</td>\n",
       "      <td>SA0L12</td>\n",
       "      <td>All items less food and shelter</td>\n",
       "      <td>1</td>\n",
       "      <td>T</td>\n",
       "      <td>362</td>\n",
       "    </tr>\n",
       "    <tr>\n",
       "      <th>6</th>\n",
       "      <td>6</td>\n",
       "      <td>SA0L12E</td>\n",
       "      <td>All items less food, shelter, and energy</td>\n",
       "      <td>1</td>\n",
       "      <td>T</td>\n",
       "      <td>363</td>\n",
       "    </tr>\n",
       "    <tr>\n",
       "      <th>7</th>\n",
       "      <td>7</td>\n",
       "      <td>SA0L12E4</td>\n",
       "      <td>All items less food, shelter, energy, and used...</td>\n",
       "      <td>1</td>\n",
       "      <td>T</td>\n",
       "      <td>364</td>\n",
       "    </tr>\n",
       "    <tr>\n",
       "      <th>8</th>\n",
       "      <td>8</td>\n",
       "      <td>SA0L1E</td>\n",
       "      <td>All items less food and energy</td>\n",
       "      <td>1</td>\n",
       "      <td>T</td>\n",
       "      <td>360</td>\n",
       "    </tr>\n",
       "    <tr>\n",
       "      <th>9</th>\n",
       "      <td>9</td>\n",
       "      <td>SA0L2</td>\n",
       "      <td>All items less shelter</td>\n",
       "      <td>1</td>\n",
       "      <td>T</td>\n",
       "      <td>361</td>\n",
       "    </tr>\n",
       "  </tbody>\n",
       "</table>\n",
       "</div>"
      ],
      "text/plain": [
       "   Unnamed: 0 item_code                                          item_name  \\\n",
       "0           0       AA0                               All items - old base   \n",
       "1           1      AA0R  Purchasing power of the consumer dollar - old ...   \n",
       "2           2       SA0                                          All items   \n",
       "3           3      SA0E                                             Energy   \n",
       "4           4     SA0L1                                All items less food   \n",
       "5           5    SA0L12                    All items less food and shelter   \n",
       "6           6   SA0L12E           All items less food, shelter, and energy   \n",
       "7           7  SA0L12E4  All items less food, shelter, energy, and used...   \n",
       "8           8    SA0L1E                     All items less food and energy   \n",
       "9           9     SA0L2                             All items less shelter   \n",
       "\n",
       "   display_level selectable  sort_sequence  \n",
       "0              0          T              2  \n",
       "1              0          T            400  \n",
       "2              0          T              1  \n",
       "3              1          T            375  \n",
       "4              1          T            359  \n",
       "5              1          T            362  \n",
       "6              1          T            363  \n",
       "7              1          T            364  \n",
       "8              1          T            360  \n",
       "9              1          T            361  "
      ]
     },
     "execution_count": 2,
     "metadata": {},
     "output_type": "execute_result"
    }
   ],
   "source": [
    "wine.head(10)"
   ]
  },
  {
   "cell_type": "code",
   "execution_count": 3,
   "id": "3358ff87",
   "metadata": {},
   "outputs": [
    {
     "data": {
      "text/plain": [
       "363"
      ]
     },
     "execution_count": 3,
     "metadata": {},
     "output_type": "execute_result"
    }
   ],
   "source": [
    "wine.iloc[6,-1]"
   ]
  },
  {
   "cell_type": "code",
   "execution_count": 8,
   "id": "a198d302",
   "metadata": {},
   "outputs": [],
   "source": [
    "wine1 = wine.iloc[0:10]"
   ]
  },
  {
   "cell_type": "code",
   "execution_count": 9,
   "id": "297fc094",
   "metadata": {},
   "outputs": [
    {
     "data": {
      "text/html": [
       "<div>\n",
       "<style scoped>\n",
       "    .dataframe tbody tr th:only-of-type {\n",
       "        vertical-align: middle;\n",
       "    }\n",
       "\n",
       "    .dataframe tbody tr th {\n",
       "        vertical-align: top;\n",
       "    }\n",
       "\n",
       "    .dataframe thead th {\n",
       "        text-align: right;\n",
       "    }\n",
       "</style>\n",
       "<table border=\"1\" class=\"dataframe\">\n",
       "  <thead>\n",
       "    <tr style=\"text-align: right;\">\n",
       "      <th></th>\n",
       "      <th>Unnamed: 0</th>\n",
       "      <th>item_code</th>\n",
       "      <th>item_name</th>\n",
       "      <th>display_level</th>\n",
       "      <th>selectable</th>\n",
       "      <th>sort_sequence</th>\n",
       "    </tr>\n",
       "  </thead>\n",
       "  <tbody>\n",
       "    <tr>\n",
       "      <th>0</th>\n",
       "      <td>0</td>\n",
       "      <td>AA0</td>\n",
       "      <td>All items - old base</td>\n",
       "      <td>0</td>\n",
       "      <td>T</td>\n",
       "      <td>2</td>\n",
       "    </tr>\n",
       "    <tr>\n",
       "      <th>1</th>\n",
       "      <td>1</td>\n",
       "      <td>AA0R</td>\n",
       "      <td>Purchasing power of the consumer dollar - old ...</td>\n",
       "      <td>0</td>\n",
       "      <td>T</td>\n",
       "      <td>400</td>\n",
       "    </tr>\n",
       "    <tr>\n",
       "      <th>2</th>\n",
       "      <td>2</td>\n",
       "      <td>SA0</td>\n",
       "      <td>All items</td>\n",
       "      <td>0</td>\n",
       "      <td>T</td>\n",
       "      <td>1</td>\n",
       "    </tr>\n",
       "    <tr>\n",
       "      <th>3</th>\n",
       "      <td>3</td>\n",
       "      <td>SA0E</td>\n",
       "      <td>Energy</td>\n",
       "      <td>1</td>\n",
       "      <td>T</td>\n",
       "      <td>375</td>\n",
       "    </tr>\n",
       "    <tr>\n",
       "      <th>4</th>\n",
       "      <td>4</td>\n",
       "      <td>SA0L1</td>\n",
       "      <td>All items less food</td>\n",
       "      <td>1</td>\n",
       "      <td>T</td>\n",
       "      <td>359</td>\n",
       "    </tr>\n",
       "    <tr>\n",
       "      <th>5</th>\n",
       "      <td>5</td>\n",
       "      <td>SA0L12</td>\n",
       "      <td>All items less food and shelter</td>\n",
       "      <td>1</td>\n",
       "      <td>T</td>\n",
       "      <td>362</td>\n",
       "    </tr>\n",
       "    <tr>\n",
       "      <th>6</th>\n",
       "      <td>6</td>\n",
       "      <td>SA0L12E</td>\n",
       "      <td>All items less food, shelter, and energy</td>\n",
       "      <td>1</td>\n",
       "      <td>T</td>\n",
       "      <td>363</td>\n",
       "    </tr>\n",
       "    <tr>\n",
       "      <th>7</th>\n",
       "      <td>7</td>\n",
       "      <td>SA0L12E4</td>\n",
       "      <td>All items less food, shelter, energy, and used...</td>\n",
       "      <td>1</td>\n",
       "      <td>T</td>\n",
       "      <td>364</td>\n",
       "    </tr>\n",
       "    <tr>\n",
       "      <th>8</th>\n",
       "      <td>8</td>\n",
       "      <td>SA0L1E</td>\n",
       "      <td>All items less food and energy</td>\n",
       "      <td>1</td>\n",
       "      <td>T</td>\n",
       "      <td>360</td>\n",
       "    </tr>\n",
       "    <tr>\n",
       "      <th>9</th>\n",
       "      <td>9</td>\n",
       "      <td>SA0L2</td>\n",
       "      <td>All items less shelter</td>\n",
       "      <td>1</td>\n",
       "      <td>T</td>\n",
       "      <td>361</td>\n",
       "    </tr>\n",
       "  </tbody>\n",
       "</table>\n",
       "</div>"
      ],
      "text/plain": [
       "   Unnamed: 0 item_code                                          item_name  \\\n",
       "0           0       AA0                               All items - old base   \n",
       "1           1      AA0R  Purchasing power of the consumer dollar - old ...   \n",
       "2           2       SA0                                          All items   \n",
       "3           3      SA0E                                             Energy   \n",
       "4           4     SA0L1                                All items less food   \n",
       "5           5    SA0L12                    All items less food and shelter   \n",
       "6           6   SA0L12E           All items less food, shelter, and energy   \n",
       "7           7  SA0L12E4  All items less food, shelter, energy, and used...   \n",
       "8           8    SA0L1E                     All items less food and energy   \n",
       "9           9     SA0L2                             All items less shelter   \n",
       "\n",
       "   display_level selectable  sort_sequence  \n",
       "0              0          T              2  \n",
       "1              0          T            400  \n",
       "2              0          T              1  \n",
       "3              1          T            375  \n",
       "4              1          T            359  \n",
       "5              1          T            362  \n",
       "6              1          T            363  \n",
       "7              1          T            364  \n",
       "8              1          T            360  \n",
       "9              1          T            361  "
      ]
     },
     "execution_count": 9,
     "metadata": {},
     "output_type": "execute_result"
    }
   ],
   "source": [
    "wine1"
   ]
  },
  {
   "cell_type": "code",
   "execution_count": 11,
   "id": "ada5f602",
   "metadata": {},
   "outputs": [],
   "source": [
    "wine1.to_pickle('datasets/wine_pickle.pkl')"
   ]
  },
  {
   "cell_type": "code",
   "execution_count": 12,
   "id": "7b83d981",
   "metadata": {},
   "outputs": [
    {
     "data": {
      "text/html": [
       "<div>\n",
       "<style scoped>\n",
       "    .dataframe tbody tr th:only-of-type {\n",
       "        vertical-align: middle;\n",
       "    }\n",
       "\n",
       "    .dataframe tbody tr th {\n",
       "        vertical-align: top;\n",
       "    }\n",
       "\n",
       "    .dataframe thead th {\n",
       "        text-align: right;\n",
       "    }\n",
       "</style>\n",
       "<table border=\"1\" class=\"dataframe\">\n",
       "  <thead>\n",
       "    <tr style=\"text-align: right;\">\n",
       "      <th></th>\n",
       "      <th>Unnamed: 0</th>\n",
       "      <th>item_code</th>\n",
       "      <th>item_name</th>\n",
       "      <th>display_level</th>\n",
       "      <th>selectable</th>\n",
       "      <th>sort_sequence</th>\n",
       "    </tr>\n",
       "  </thead>\n",
       "  <tbody>\n",
       "    <tr>\n",
       "      <th>0</th>\n",
       "      <td>0</td>\n",
       "      <td>AA0</td>\n",
       "      <td>All items - old base</td>\n",
       "      <td>0</td>\n",
       "      <td>T</td>\n",
       "      <td>2</td>\n",
       "    </tr>\n",
       "    <tr>\n",
       "      <th>1</th>\n",
       "      <td>1</td>\n",
       "      <td>AA0R</td>\n",
       "      <td>Purchasing power of the consumer dollar - old ...</td>\n",
       "      <td>0</td>\n",
       "      <td>T</td>\n",
       "      <td>400</td>\n",
       "    </tr>\n",
       "    <tr>\n",
       "      <th>2</th>\n",
       "      <td>2</td>\n",
       "      <td>SA0</td>\n",
       "      <td>All items</td>\n",
       "      <td>0</td>\n",
       "      <td>T</td>\n",
       "      <td>1</td>\n",
       "    </tr>\n",
       "    <tr>\n",
       "      <th>3</th>\n",
       "      <td>3</td>\n",
       "      <td>SA0E</td>\n",
       "      <td>Energy</td>\n",
       "      <td>1</td>\n",
       "      <td>T</td>\n",
       "      <td>375</td>\n",
       "    </tr>\n",
       "    <tr>\n",
       "      <th>4</th>\n",
       "      <td>4</td>\n",
       "      <td>SA0L1</td>\n",
       "      <td>All items less food</td>\n",
       "      <td>1</td>\n",
       "      <td>T</td>\n",
       "      <td>359</td>\n",
       "    </tr>\n",
       "    <tr>\n",
       "      <th>5</th>\n",
       "      <td>5</td>\n",
       "      <td>SA0L12</td>\n",
       "      <td>All items less food and shelter</td>\n",
       "      <td>1</td>\n",
       "      <td>T</td>\n",
       "      <td>362</td>\n",
       "    </tr>\n",
       "    <tr>\n",
       "      <th>6</th>\n",
       "      <td>6</td>\n",
       "      <td>SA0L12E</td>\n",
       "      <td>All items less food, shelter, and energy</td>\n",
       "      <td>1</td>\n",
       "      <td>T</td>\n",
       "      <td>363</td>\n",
       "    </tr>\n",
       "    <tr>\n",
       "      <th>7</th>\n",
       "      <td>7</td>\n",
       "      <td>SA0L12E4</td>\n",
       "      <td>All items less food, shelter, energy, and used...</td>\n",
       "      <td>1</td>\n",
       "      <td>T</td>\n",
       "      <td>364</td>\n",
       "    </tr>\n",
       "    <tr>\n",
       "      <th>8</th>\n",
       "      <td>8</td>\n",
       "      <td>SA0L1E</td>\n",
       "      <td>All items less food and energy</td>\n",
       "      <td>1</td>\n",
       "      <td>T</td>\n",
       "      <td>360</td>\n",
       "    </tr>\n",
       "    <tr>\n",
       "      <th>9</th>\n",
       "      <td>9</td>\n",
       "      <td>SA0L2</td>\n",
       "      <td>All items less shelter</td>\n",
       "      <td>1</td>\n",
       "      <td>T</td>\n",
       "      <td>361</td>\n",
       "    </tr>\n",
       "  </tbody>\n",
       "</table>\n",
       "</div>"
      ],
      "text/plain": [
       "   Unnamed: 0 item_code                                          item_name  \\\n",
       "0           0       AA0                               All items - old base   \n",
       "1           1      AA0R  Purchasing power of the consumer dollar - old ...   \n",
       "2           2       SA0                                          All items   \n",
       "3           3      SA0E                                             Energy   \n",
       "4           4     SA0L1                                All items less food   \n",
       "5           5    SA0L12                    All items less food and shelter   \n",
       "6           6   SA0L12E           All items less food, shelter, and energy   \n",
       "7           7  SA0L12E4  All items less food, shelter, energy, and used...   \n",
       "8           8    SA0L1E                     All items less food and energy   \n",
       "9           9     SA0L2                             All items less shelter   \n",
       "\n",
       "   display_level selectable  sort_sequence  \n",
       "0              0          T              2  \n",
       "1              0          T            400  \n",
       "2              0          T              1  \n",
       "3              1          T            375  \n",
       "4              1          T            359  \n",
       "5              1          T            362  \n",
       "6              1          T            363  \n",
       "7              1          T            364  \n",
       "8              1          T            360  \n",
       "9              1          T            361  "
      ]
     },
     "execution_count": 12,
     "metadata": {},
     "output_type": "execute_result"
    }
   ],
   "source": [
    "wine2 =  pd.read_pickle('datasets/wine_pickle.pkl')\n",
    "wine2"
   ]
  },
  {
   "cell_type": "code",
   "execution_count": null,
   "id": "c4f58a7b",
   "metadata": {},
   "outputs": [],
   "source": []
  }
 ],
 "metadata": {
  "kernelspec": {
   "display_name": "Python 3 (ipykernel)",
   "language": "python",
   "name": "python3"
  },
  "language_info": {
   "codemirror_mode": {
    "name": "ipython",
    "version": 3
   },
   "file_extension": ".py",
   "mimetype": "text/x-python",
   "name": "python",
   "nbconvert_exporter": "python",
   "pygments_lexer": "ipython3",
   "version": "3.9.13"
  }
 },
 "nbformat": 4,
 "nbformat_minor": 5
}
