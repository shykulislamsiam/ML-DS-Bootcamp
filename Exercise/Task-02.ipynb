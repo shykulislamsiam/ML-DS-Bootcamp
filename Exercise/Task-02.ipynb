{
 "cells": [
  {
   "cell_type": "markdown",
   "id": "f8dd399c",
   "metadata": {},
   "source": [
    "## Python Programming: Variable, I/O, and Loop."
   ]
  },
  {
   "cell_type": "markdown",
   "id": "87943cdb",
   "metadata": {},
   "source": [
    "## 1. Display float number with 2 decimal places using print()."
   ]
  },
  {
   "cell_type": "code",
   "execution_count": 4,
   "id": "dc55f1bb",
   "metadata": {},
   "outputs": [
    {
     "name": "stdout",
     "output_type": "stream",
     "text": [
      "The Result is: 9.87\n"
     ]
    }
   ],
   "source": [
    "import math as m\n",
    "\n",
    "x = m.pi**2\n",
    "print(\"The Result is:\",round(x,2))\n"
   ]
  },
  {
   "cell_type": "markdown",
   "id": "296aa8aa",
   "metadata": {},
   "source": [
    "## 2. Accept a list of float numbers as input from the user and display that."
   ]
  },
  {
   "cell_type": "code",
   "execution_count": 7,
   "id": "4f9868c3",
   "metadata": {},
   "outputs": [
    {
     "name": "stdout",
     "output_type": "stream",
     "text": [
      "Please Enter the Values: 1.5 2.5 3.5 4.5\n",
      "The Output is: [1.5, 2.5, 3.5, 4.5]\n"
     ]
    }
   ],
   "source": [
    "lst = list(map(float,input(\"Please Enter the Values: \").strip().split()))\n",
    "print(\"The Output is:\",lst)\n"
   ]
  },
  {
   "cell_type": "markdown",
   "id": "efd66faa",
   "metadata": {},
   "source": [
    "## 3. Print the First n natural numbers using a while loop."
   ]
  },
  {
   "cell_type": "code",
   "execution_count": 19,
   "id": "fe78503b",
   "metadata": {},
   "outputs": [
    {
     "name": "stdout",
     "output_type": "stream",
     "text": [
      "Please Enter the Range: 15\n",
      "1 2 3 4 5 6 7 8 9 10 11 12 13 14 15 "
     ]
    }
   ],
   "source": [
    "n = int(input(\"Please Enter the Range: \"))\n",
    " \n",
    "i = 1\n",
    "while i<=n:\n",
    "    print(i,end=\" \")\n",
    "    i+=1"
   ]
  },
  {
   "cell_type": "markdown",
   "id": "8dccda77",
   "metadata": {},
   "source": [
    "## 4. Display numbers from -n to -1 using for loop."
   ]
  },
  {
   "cell_type": "code",
   "execution_count": 18,
   "id": "f8427a62",
   "metadata": {},
   "outputs": [
    {
     "name": "stdout",
     "output_type": "stream",
     "text": [
      "Please Enter the Range: 15\n",
      "-15 -14 -13 -12 -11 -10 -9 -8 -7 -6 -5 -4 -3 -2 -1 "
     ]
    }
   ],
   "source": [
    "n = int(input(\"Please Enter the Range: \"))\n",
    "\n",
    "for i in range(-n-1,-1):\n",
    "    i+=1\n",
    "    \n",
    "    print(i,end=\" \")"
   ]
  },
  {
   "cell_type": "markdown",
   "id": "fff12534",
   "metadata": {},
   "source": [
    "## 5. Count the total number of digits in a number."
   ]
  },
  {
   "cell_type": "markdown",
   "id": "99349ecc",
   "metadata": {},
   "source": [
    "n = int(input(\"Please Enter the Digit:\"))\n",
    "count = 0\n",
    "\n",
    "while n>0:\n",
    "    count+=1\n",
    "    n//=10\n",
    "\n",
    "print(\"Total Digit is:\",count)\n"
   ]
  },
  {
   "cell_type": "markdown",
   "id": "6c965a5f",
   "metadata": {},
   "source": [
    "## 6. Find the factorial of a given number"
   ]
  },
  {
   "cell_type": "code",
   "execution_count": 30,
   "id": "5bcf3c3b",
   "metadata": {},
   "outputs": [
    {
     "name": "stdout",
     "output_type": "stream",
     "text": [
      "Please Enter an Integer Number:6\n",
      "The Result is: 720\n"
     ]
    }
   ],
   "source": [
    "n = int(input(\"Please Enter an Integer Number:\"))\n",
    "\n",
    "fact = 1\n",
    "while n>0:\n",
    "    fact*=n\n",
    "    n-=1\n",
    "\n",
    "print(\"The Result is:\",fact)"
   ]
  },
  {
   "cell_type": "markdown",
   "id": "5f013528",
   "metadata": {},
   "source": [
    "## 7. Print this: \n",
    "\n",
    "1 \\\n",
    "1 2 \\\n",
    "1 2 3 \\\n",
    "1 2 3 4 \\\n",
    "1 2 3 4 5 "
   ]
  },
  {
   "cell_type": "code",
   "execution_count": 32,
   "id": "748b83e9",
   "metadata": {},
   "outputs": [
    {
     "name": "stdout",
     "output_type": "stream",
     "text": [
      "Please Enter an Integer Number:5\n",
      "1 \n",
      "1 2 \n",
      "1 2 3 \n",
      "1 2 3 4 \n",
      "1 2 3 4 5 \n"
     ]
    }
   ],
   "source": [
    "n = int(input(\"Please Enter an Integer Number:\"))\n",
    "\n",
    "for i in range(1,n+1):\n",
    "    for j in range(1,i+1):\n",
    "        print(j,end=\" \")\n",
    "    print(\"\")"
   ]
  }
 ],
 "metadata": {
  "kernelspec": {
   "display_name": "Python 3 (ipykernel)",
   "language": "python",
   "name": "python3"
  },
  "language_info": {
   "codemirror_mode": {
    "name": "ipython",
    "version": 3
   },
   "file_extension": ".py",
   "mimetype": "text/x-python",
   "name": "python",
   "nbconvert_exporter": "python",
   "pygments_lexer": "ipython3",
   "version": "3.9.13"
  }
 },
 "nbformat": 4,
 "nbformat_minor": 5
}
